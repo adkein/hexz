{
 "cells": [
  {
   "cell_type": "code",
   "execution_count": 1,
   "id": "426f56bd-b07c-4ecf-9295-59b59366bade",
   "metadata": {
    "tags": []
   },
   "outputs": [
    {
     "name": "stdout",
     "output_type": "stream",
     "text": [
      "cuda available: False\n",
      "torch version: 2.1.0\n",
      "numpy version: 1.26.0\n"
     ]
    }
   ],
   "source": [
    "import collections\n",
    "import h5py\n",
    "from matplotlib import pyplot as plt\n",
    "import numpy as np\n",
    "import pandas as pd\n",
    "import time\n",
    "import torch\n",
    "from torch import nn, optim\n",
    "import torch.nn.functional as F\n",
    "\n",
    "from uuid import uuid4\n",
    "\n",
    "print(f\"cuda available: {torch.cuda.is_available()}\")\n",
    "print(f\"torch version: {torch.__version__}\")\n",
    "print(f\"numpy version: {np.__version__}\")"
   ]
  },
  {
   "cell_type": "code",
   "execution_count": 315,
   "id": "dc675638-31e2-475d-8dc0-f7cf66785276",
   "metadata": {
    "tags": []
   },
   "outputs": [],
   "source": [
    "from functools import wraps\n",
    "import collections\n",
    "\n",
    "# Stores accumulated running time in micros of functions annotated with @timing.\n",
    "_PERF_ACC_MICROS = collections.Counter()\n",
    "_PERF_COUNTS = collections.Counter()\n",
    "\n",
    "\n",
    "def timing(f):\n",
    "    @wraps(f)\n",
    "    def wrap(*args, **kw):\n",
    "        t_start = time.perf_counter_ns()\n",
    "        result = f(*args, **kw)\n",
    "        t_end = time.perf_counter_ns()\n",
    "        name = f.__qualname__\n",
    "        _PERF_ACC_MICROS[name] += (t_end - t_start) // 1000\n",
    "        _PERF_COUNTS[name] += 1\n",
    "        return result\n",
    "    return wrap\n",
    "\n",
    "\n",
    "def clear_perf_stats():\n",
    "    _PERF_ACC_MICROS.clear()\n",
    "    _PERF_COUNTS.clear()\n",
    "    \n",
    "    \n",
    "def perf_stats():\n",
    "    ms = _PERF_ACC_MICROS\n",
    "    ns = _PERF_COUNTS\n",
    "    width = max(len(k) for k in ms)\n",
    "    print(f\"{'method'.ljust(width)} {'total_sec':>11} {'count':>10} {'ops/s':>10}\")\n",
    "    for k in _PERF_ACC_MICROS:\n",
    "        print(f\"{k.ljust(width)} {ms[k]/1e6:>10.3f}s {ns[k]: 10} {ns[k]/(ms[k]/1e6):>10.1f}\")\n",
    "    "
   ]
  },
  {
   "cell_type": "markdown",
   "id": "f43811a6",
   "metadata": {},
   "source": [
    "# Hexz\n",
    "\n",
    "A board is represented by an (N, 10, 11) numpy array. Each 10x11 slice is a one-hot encoding of the presence of specific type of piece/obstacle/etc. The slices are:\n",
    "\n",
    "* 0: flags by P1\n",
    "* 1: cell value 1-5 for P1\n",
    "* 2: cells blocked for P1 (any occupied cell or a cell next to a 5)\n",
    "* 3: next value for P1 \n",
    "* 4: flags by P2\n",
    "* 5: cell value 1-5 for P2\n",
    "* 6: cells blocked for P2\n",
    "* 7: next value for P2\n",
    "* 8: grass cells with value 1-5\n",
    "\n",
    "An action is specified by a (2, 10, 11) numpy array. The first 10x11 slice represents a flag move,\n",
    "the second one represents a regular cell move. A flag move must have a single 1 set, a normal move\n",
    "must have a single value 1-5 set."
   ]
  },
  {
   "cell_type": "code",
   "execution_count": 2,
   "id": "8517f3da",
   "metadata": {
    "tags": []
   },
   "outputs": [],
   "source": [
    "def valid_idx(r_c):\n",
    "    \"\"\"Returns True if (r, c) = r_c represents a valid hexz board index.\"\"\"\n",
    "    r, c = r_c\n",
    "    return r >= 0 and r < 11 and c >= 0 and c < 10-r%2\n",
    "\n",
    "\n",
    "def neighbors_map():\n",
    "    \"\"\"Returns a dict mapping all valid (r, c) indices to their neighbor indices.\n",
    "    \n",
    "    The neighbor indices are represented as (row, column) tuples.\"\"\"\n",
    "    result = {}\n",
    "    for r in range(11):\n",
    "        shift = r%2 # Depending on the row, neighbors below and above are shifted.\n",
    "        for c in range(10-r%2):\n",
    "            ns = filter(valid_idx, [\n",
    "                (r, c+1),\n",
    "                (r-1, c+shift),\n",
    "                (r-1, c-1+shift),\n",
    "                (r, c-1),\n",
    "                (r+1, c-1+shift),\n",
    "                (r+1, c+shift),\n",
    "            ])\n",
    "            nr, nc = zip(*ns)  # unzip\n",
    "            result[(r, c)] = (np.array(nr), np.array(nc))\n",
    "            \n",
    "    return result\n"
   ]
  },
  {
   "cell_type": "markdown",
   "id": "7b976ff0-bdba-43f9-b633-9300dda52c69",
   "metadata": {},
   "source": [
    "## Cython\n",
    "\n",
    "When profiling the pure Python implementation of Board I found that `make_move` takes up most of the time of a random game. `make_move` is a fundamental operation in the game and shouldn't take any time: it only updates a few specific elements of the ndarray.\n",
    "\n",
    "So here is an implementation in Cython. A naive implementation of fully playing a random game drops from 839 µs to 605 µs when using the Cython implementation. Effectively, the time spent in `make_move` becomes entirely negligible, as it should be."
   ]
  },
  {
   "cell_type": "code",
   "execution_count": null,
   "id": "0a29ac93-22cd-4f5e-adb1-f5d37daf6283",
   "metadata": {},
   "outputs": [],
   "source": [
    "%load_ext Cython"
   ]
  },
  {
   "cell_type": "code",
   "execution_count": 335,
   "id": "fe9ebe03-1118-4326-b3f0-386c27e659ee",
   "metadata": {
    "tags": []
   },
   "outputs": [
    {
     "name": "stdout",
     "output_type": "stream",
     "text": [
      "Content of stderr:\n",
      "/Users/denniswalter/.cache/ipython/cython/_cython_magic_8b79a2fdf4dce63b414f4d488db17765cf546584.c:5645:28: warning: equality comparison with extraneous parentheses [-Wparentheses-equality]\n",
      "  if (((__pyx_v_c_mode[0]) == 'f')) {\n",
      "       ~~~~~~~~~~~~~~~~~~~~^~~~~~\n",
      "/Users/denniswalter/.cache/ipython/cython/_cython_magic_8b79a2fdf4dce63b414f4d488db17765cf546584.c:5645:28: note: remove extraneous parentheses around the comparison to silence this warning\n",
      "  if (((__pyx_v_c_mode[0]) == 'f')) {\n",
      "      ~                    ^     ~\n",
      "/Users/denniswalter/.cache/ipython/cython/_cython_magic_8b79a2fdf4dce63b414f4d488db17765cf546584.c:5645:28: note: use '=' to turn this equality comparison into an assignment\n",
      "  if (((__pyx_v_c_mode[0]) == 'f')) {\n",
      "                           ^~\n",
      "                           =\n",
      "1 warning generated.\n",
      "ld: warning: duplicate -rpath '/Users/denniswalter/miniconda3/lib' ignored"
     ]
    }
   ],
   "source": [
    " %%cython\n",
    "\n",
    "import numpy as np\n",
    "\n",
    "    \n",
    "def c_valid_idx(r_c):\n",
    "    \"\"\"Returns True if (r, c) = r_c represents a valid hexz board index.\"\"\"\n",
    "    r, c = r_c\n",
    "    return r >= 0 and r < 11 and c >= 0 and c < 10-r%2\n",
    "\n",
    "\n",
    "def c_neighbors_map():\n",
    "    \"\"\"Returns a dict mapping all valid (r, c) indices to their neighbor indices.\n",
    "    \n",
    "    The neighbor indices are represented as (row, column) tuples.\"\"\"\n",
    "    result = {}\n",
    "    for r in range(11):\n",
    "        shift = r%2 # Depending on the row, neighbors below and above are shifted.\n",
    "        for c in range(10-r%2):\n",
    "            ns = filter(c_valid_idx, [\n",
    "                (r, c+1),\n",
    "                (r-1, c+shift),\n",
    "                (r-1, c-1+shift),\n",
    "                (r, c-1),\n",
    "                (r+1, c-1+shift),\n",
    "                (r+1, c+shift),\n",
    "            ])\n",
    "            nr, nc = zip(*ns)  # unzip\n",
    "            result[(r, c)] = (np.array(nr), np.array(nc))\n",
    "            \n",
    "    return result\n",
    "\n",
    "\n",
    "C_NEIGHBORS = c_neighbors_map()\n",
    "\n",
    "\n",
    "def c_occupy_grass(board, int player, int r, int c):\n",
    "    \"\"\"Occupies the neighboring grass cells of move_idx (a 3-tuple index into a move) for player.\n",
    "\n",
    "    Expects that the move has already been played.\n",
    "    \"\"\"\n",
    "    cdef float[:, :, :] b = board.b\n",
    "    cdef Py_ssize_t i = 0\n",
    "    cdef Py_ssize_t x = 0\n",
    "    cdef Py_ssize_t y = 0\n",
    "    \n",
    "    nx, ny = C_NEIGHBORS[(r, c)]\n",
    "    for i in range(len(nx)):\n",
    "        x = nx[i]\n",
    "        y = ny[i]\n",
    "        grass_val = b[8, x, y]\n",
    "        if grass_val > 0 and grass_val <= b[1 + player*4, r, c]:\n",
    "            # Occupy: first remove grass\n",
    "            b[8, x, y] = 0                \n",
    "            # the rest is exactly like playing a move.\n",
    "            c_make_move(board, player, (1, r, c, grass_val))\n",
    "\n",
    "\n",
    "def c_make_move(board, int player, move):\n",
    "    \"\"\"Makes the given move.\n",
    "\n",
    "    Args:\n",
    "      board: the board as an (N, 11, 10) ndarray.\n",
    "      player: 0 or 1\n",
    "      move: a 4-tuple of (typ, r, c, val), where typ = 0 (flag) or 1 (normal)\n",
    "    Does not check that it is a valid move. Should be called only\n",
    "    with moves returned from `next_moves`.\n",
    "    \"\"\"\n",
    "    cdef float[:, :, :] b = board.b\n",
    "    cdef Py_ssize_t typ = move[0]\n",
    "    cdef Py_ssize_t r = move[1]\n",
    "    cdef Py_ssize_t c = move[2]\n",
    "    cdef double val = move[3]\n",
    "    cdef double next_val = 0\n",
    "    cdef Py_ssize_t i = 0\n",
    "    \n",
    "    b[typ + player*4, r, c] = val\n",
    "    played_flag = typ == 0\n",
    "    # Block played cell for both players.\n",
    "    b[2, r, c] = 1\n",
    "    b[6, r, c] = 1\n",
    "    # Set next value to 0 for occupied cell.\n",
    "    b[3, r, c] = 0\n",
    "    b[7, r, c] = 0\n",
    "    # Block neighboring cells if a 5 was played.\n",
    "    nx, ny = C_NEIGHBORS[(r, c)]\n",
    "    # Update next value of neighboring cells. If we played a flag, the next value is 1.\n",
    "    if played_flag:\n",
    "        next_val = 1\n",
    "        board.nflags[player] -= 1\n",
    "    else:\n",
    "        next_val = val + 1\n",
    "    if next_val <= 5:\n",
    "        for nr, nc in zip(nx, ny):\n",
    "            if b[2 + player*4, nr, nc] == 0:\n",
    "                if next_val > 5:\n",
    "                    b[3 + player*4, nr, nc] = 0\n",
    "                if b[3 + player*4, nr, nc] == 0:\n",
    "                    b[3 + player*4, nr, nc] = next_val\n",
    "                elif b[3 + player*4, nr, nc] > next_val:\n",
    "                    b[3 + player*4, nr, nc] = next_val\n",
    "    else:\n",
    "        for i in range(len(nx)):\n",
    "            # Played a 5: block neighboring cells and clear next value.\n",
    "            b[2 + player*4, nx[i], ny[i]] = 1\n",
    "            b[3 + player*4, nx[i], ny[i]] = 0  # Clear next value.\n",
    "    if not played_flag:\n",
    "        c_occupy_grass(board, player, r, c)\n",
    "\n"
   ]
  },
  {
   "cell_type": "code",
   "execution_count": 336,
   "id": "37a66d02",
   "metadata": {
    "tags": []
   },
   "outputs": [],
   "source": [
    "class PurePyBoard:\n",
    "    \"\"\"Numpy representation of a hexz board.\"\"\"\n",
    "\n",
    "    # Used to quickly get the indices of neighbor cells.\n",
    "    neighbors = neighbors_map()\n",
    "    \n",
    "    def __init__(self, other=None):\n",
    "        \"\"\"Generates a new randomly initialized board or returns a copy of other, if set.\"\"\"\n",
    "        if other:\n",
    "            self.b = other.b.copy()\n",
    "            self.nflags = list(other.nflags)\n",
    "            return\n",
    "        self.b = np.zeros((9, 11, 10), dtype=np.float32)\n",
    "        self.nflags = [3, 3]  # number of flags remaining per player\n",
    "        # Even rows have 10 cells, odd rows only 9, so mark the last cell in odd rows as blocked for P1+P2.\n",
    "        self.b[2, [1, 3, 5, 7, 9], 9] = 1\n",
    "        self.b[6, [1, 3, 5, 7, 9], 9] = 1        \n",
    "        # 2-tuple of valid indices in each slice.\n",
    "        free_cells = (1 - self.b[2]).nonzero()\n",
    "        # 15 randomly placed stones.\n",
    "        rng = np.random.default_rng()\n",
    "        stones = rng.choice(np.arange(0, len(free_cells[0])), replace=False, size=15)\n",
    "        self.b[2, free_cells[0][stones], free_cells[1][stones]] = 1\n",
    "        self.b[6, free_cells[0][stones], free_cells[1][stones]] = 1\n",
    "        free_cells = (1 - self.b[2]).nonzero()\n",
    "        # 5 grass cells\n",
    "        grass = rng.choice(np.arange(0, len(free_cells[0])), replace=False, size=5)\n",
    "        self.b[8, free_cells[0][grass], free_cells[1][grass]] = [1, 2, 3, 4, 5]\n",
    "        self.b[2, free_cells[0][grass], free_cells[1][grass]] = 1\n",
    "        self.b[6, free_cells[0][grass], free_cells[1][grass]] = 1\n",
    "    \n",
    "    def quickview(self):\n",
    "        \"\"\"Returns a single slice of the board with different cell types encoded as -/+ numbers.\"\"\"\n",
    "        return (self.b[0] * 8) + self.b[1] - (self.b[4] * 8) - self.b[5]\n",
    "        \n",
    "    def score(self):\n",
    "        \"\"\"Returns the current score as a 2-tuple.\"\"\"\n",
    "        return (self.b[1].sum(), self.b[5].sum())\n",
    "    \n",
    "    def result(self):\n",
    "        \"\"\"Returns the final result of the board.\n",
    "        \n",
    "        1 (player 0 won), 0 (draw), -1 (player 1 won).\n",
    "        \"\"\"\n",
    "        p0, p1 = self.score()\n",
    "        return np.sign(p0 - p1)\n",
    "        \n",
    "    def make_move(self, player, move):\n",
    "        \"\"\"Makes the given move.\n",
    "        \n",
    "        Args:\n",
    "          player: 0 or 1\n",
    "          move: a 4-tuple of (typ, r, c, val), where typ = 0 (flag) or 1 (normal)\n",
    "        Does not check that it is a valid move. Should be called only\n",
    "        with moves returned from `next_moves`.\n",
    "        \"\"\"\n",
    "        typ, r, c, val = move\n",
    "        b = self.b\n",
    "        b[typ + player*4, r, c] = val\n",
    "        played_flag = typ == 0\n",
    "        # Block played cell for both players.\n",
    "        b[2, r, c] = 1\n",
    "        b[6, r, c] = 1\n",
    "        # Set next value to 0 for occupied cell.\n",
    "        b[3, r, c] = 0\n",
    "        b[7, r, c] = 0\n",
    "        # Block neighboring cells if a 5 was played.\n",
    "        nx, ny = Board.neighbors[(r, c)]\n",
    "        # Update next value of neighboring cells. If we played a flag, the next value is 1.\n",
    "        if played_flag:\n",
    "            next_val = 1\n",
    "            self.nflags[player] -= 1\n",
    "        else:\n",
    "            next_val = val + 1\n",
    "        if next_val <= 5:\n",
    "            for nr, nc in zip(nx, ny):\n",
    "                if b[2 + player*4, nr, nc] == 0:\n",
    "                    if next_val > 5:\n",
    "                        b[3 + player*4, nr, nc] = 0\n",
    "                    if b[3 + player*4, nr, nc] == 0:\n",
    "                        b[3 + player*4, nr, nc] = next_val\n",
    "                    elif b[3 + player*4, nr, nc] > next_val:\n",
    "                        b[3 + player*4, nr, nc] = next_val\n",
    "        else:\n",
    "            # Played a 5: block neighboring cells and clear next value.\n",
    "            b[2 + player*4, nx, ny] = 1\n",
    "            b[3 + player*4, nx, ny] = 0  # Clear next value.\n",
    "\n",
    "        # Occupy neighboring grass cells.\n",
    "        if not played_flag:\n",
    "            self.occupy_grass(player, r, c)\n",
    "            \n",
    "    def occupy_grass(self, player, r, c):\n",
    "        \"\"\"Occupies the neighboring grass cells of move_idx (a 3-tuple index into a move) for player.\n",
    "        \n",
    "        Expects that the move has already been played.\n",
    "        \"\"\"\n",
    "        nx, ny = Board.neighbors[(r, c)]\n",
    "        for i, j in zip(nx, ny):\n",
    "            grass_val = self.b[8, i, j]\n",
    "            if grass_val > 0 and grass_val <= self.b[1 + player*4, r, c]:\n",
    "                # Occupy: first remove grass\n",
    "                self.b[8, i, j] = 0                \n",
    "                # the rest is exactly like playing a move.\n",
    "                self.make_move(player, (1, r, c, grass_val))\n",
    "    \n",
    "    @timing\n",
    "    def next_moves(self, player):\n",
    "        \"\"\"Returns all possible next moves.\n",
    "        \n",
    "        A move is represented as a (2, 11, 10) ndarray. The first slice represents\n",
    "        flag moves, the second one represents normal moves. A flag move will have exactly\n",
    "        one element set to 1 in slice 0. A normal move will have exactly one element set to\n",
    "        1-5 in slice 1.\n",
    "        \"\"\"\n",
    "        moves = []\n",
    "        # Do we have unoccupied cells and flags left? Then we can place another one.\n",
    "        if self.nflags[player] > 0:\n",
    "            # Flag in any unoccupied cell.\n",
    "            rs, cs = np.nonzero(self.b[2 + player*4] == 0)  # funky way to get indices for all free cells.\n",
    "            moves.extend((0, r, c, 1) for r, c in zip(rs, cs))\n",
    "        # Collect all cells with a non-zero next value.\n",
    "        rs, cs = np.nonzero(self.b[3 + player*4])\n",
    "        moves.extend((1, r, c, self.b[3 + player*4, r, c]) for r, c in zip(rs, cs))\n",
    "        return moves\n",
    "\n",
    "    \n",
    "class CBoard(PurePyBoard):\n",
    "    \"\"\"Like a PurePyBoard, but uses the fast C implementations where available.\"\"\"\n",
    "    @timing\n",
    "    def __init__(self, *args, **kwargs):\n",
    "        super().__init__(*args, **kwargs)\n",
    "        \n",
    "    @timing\n",
    "    def make_move(self, player, move):\n",
    "        c_make_move(self, player, move)\n",
    "        \n",
    "    @timing\n",
    "    def occupy_grass(self, player, r, c):\n",
    "        c_occupy_grass(self, player, r, c)\n",
    "\n",
    "        \n",
    "# Use the C implementation.\n",
    "Board = CBoard"
   ]
  },
  {
   "cell_type": "code",
   "execution_count": 176,
   "id": "27de699a-86ad-4e21-ab3c-7ea4026f5f2e",
   "metadata": {
    "tags": []
   },
   "outputs": [],
   "source": []
  },
  {
   "cell_type": "code",
   "execution_count": 337,
   "id": "d45e56fe",
   "metadata": {
    "tags": []
   },
   "outputs": [
    {
     "name": "stdout",
     "output_type": "stream",
     "text": [
      "862 µs ± 2.34 µs per loop (mean ± std. dev. of 7 runs, 1,000 loops each)\n"
     ]
    }
   ],
   "source": [
    "%%timeit\n",
    "\n",
    "for i in range(1):\n",
    "    rng = np.random.default_rng()\n",
    "    b = Board()\n",
    "    player = 0\n",
    "    moves = b.next_moves(player)\n",
    "    num_moves = 0\n",
    "    while moves and num_moves < 200:\n",
    "        m = moves[rng.integers(0, len(moves))]\n",
    "        b.make_move(player, m)\n",
    "        num_moves += 1\n",
    "        player = 1 - player\n",
    "        moves = b.next_moves(player)\n",
    "        if not moves:\n",
    "            # No more moves for the player. See if the other player can continue.\n",
    "            player = 1 - player\n",
    "            moves = b.next_moves(player)\n",
    "    # print(f\"Done after {num_moves} moves. Flags left: {b.nflags}. Score: {b.score()}\")\n",
    "    # b.quickview()"
   ]
  },
  {
   "cell_type": "code",
   "execution_count": 170,
   "id": "b753504a",
   "metadata": {
    "tags": []
   },
   "outputs": [],
   "source": [
    "class Node:\n",
    "    \"\"\"Nodes of the MCTS tree.\"\"\"\n",
    "    def __init__(self, parent, player, move):\n",
    "        self.parent = parent\n",
    "        self.player = player\n",
    "        self.move = move\n",
    "        self.wins = 0.0\n",
    "        self.visit_count = 0\n",
    "        self.children = []\n",
    "    \n",
    "    def uct(self):\n",
    "        if self.parent.visit_count == 0:\n",
    "            return 0.5\n",
    "        if self.visit_count == 0:\n",
    "            win_rate = 0.5\n",
    "            adjusted_count = 1\n",
    "        else:\n",
    "            win_rate = self.wins / self.visit_count\n",
    "            adjusted_count = self.visit_count\n",
    "        return (\n",
    "            win_rate + \n",
    "            1.0 * np.sqrt(np.log(self.parent.visit_count) / adjusted_count)\n",
    "        )\n",
    "\n",
    "    def __str__(self):\n",
    "        return f\"Node(p={self.player}, m={self.move}, w={self.wins/self.visit_count:.3f}, n={self.visit_count}, u={self.uct():.3f}, cs={len(self.children)})\"\n",
    "\n",
    "    def __repr__(self):\n",
    "        return str(self)\n",
    "    \n",
    "    def move_likelihoods(self):\n",
    "        \"\"\"Returns the move likelihoods for all children as a (2, 11, 10) ndarray.\n",
    "        \n",
    "        The ndarray indicates the likelihoods (based on visit count) for flags\n",
    "        and normal moves. It sums to 1.\n",
    "        \"\"\"\n",
    "        p = np.zeros((2, 11, 10))\n",
    "        for child in self.children:\n",
    "            typ, r, c, _ = child.move\n",
    "            p[typ, r, c] = child.visit_count\n",
    "        return p / p.sum()\n",
    "    \n",
    "    def best_child(self):\n",
    "        \"\"\"Returns the best among all children.\n",
    "        \n",
    "        The best child is the one with the greatest visit count, a common\n",
    "        choice in the MCTS literature.\n",
    "        \"\"\"\n",
    "        return max(self.children, default=None, key=lambda n: n.visit_count)\n",
    "    \n",
    "\n",
    "class Example:\n",
    "    \"\"\"Data holder for one step of a fully played MCTS game.\"\"\"\n",
    "    \n",
    "    def __init__(self, game_id, board, move_probs, turn, result):\n",
    "        \"\"\"\n",
    "        Args:\n",
    "            game_id: arbitrary string identifying the game that this example belongs to.\n",
    "            board: the board (Board.b) as an (N, 11, 10) ndarray.\n",
    "            move_probs: (2, 11, 10) ndarray of move likelihoods.\n",
    "            turn: 0 or 1, indicating which player's turn it was.\n",
    "            result: -1, 0, 1, indicating the player that won (1 = player 0 won).\n",
    "        \"\"\"\n",
    "        self.game_id = game_id\n",
    "        self.board = board\n",
    "        self.move_probs = move_probs\n",
    "        self.turn = turn\n",
    "        self.result = result\n",
    "    \n",
    "    @classmethod\n",
    "    def save_all(self, path, examples, mode=\"a\"):\n",
    "        \"\"\"Saves the examples in a HDF5 file at the given path.\n",
    "        \n",
    "        Args:\n",
    "            path: a file path, e.g. \"/path/to/examples.h5\"\n",
    "            examples: a list of Example instances.\n",
    "            mode: 'a' (the default) to append or create, 'w' to truncate or create.\n",
    "        \"\"\"\n",
    "        with h5py.File(path, mode) as h5:\n",
    "            offset = len(h5)\n",
    "            for i, ex in enumerate(examples):\n",
    "                grp = h5.create_group(f\"{i+offset:08}\")\n",
    "                grp.attrs[\"game_id\"] = ex.game_id\n",
    "                grp.create_dataset(\"board\", data=ex.board)\n",
    "                grp.create_dataset(\"move_probs\", data=ex.move_probs)\n",
    "                grp.create_dataset(\"turn\", data=np.array([ex.turn]))\n",
    "                grp.create_dataset(\"result\", data=np.array([ex.result]))\n",
    "    \n",
    "    @classmethod\n",
    "    def load_all(cls, path):\n",
    "        \"\"\"This method is for testing only.\n",
    "        \n",
    "        Use a HexzDataset to access the examples from PyTorch.\"\"\"\n",
    "        examples = []\n",
    "        with h5py.File(path, \"r\") as h5:\n",
    "            for grp in h5:\n",
    "                ex = h5[grp]\n",
    "                turn = ex[\"turn\"][0]\n",
    "                result = ex[\"result\"][0]\n",
    "                examples.append(\n",
    "                    Example(ex.attrs[\"game_id\"], ex[\"board\"][:], ex[\"move_probs\"][:], turn, result)\n",
    "                )\n",
    "        return examples\n",
    "        \n",
    "        \n",
    "class MCTS:\n",
    "    \"\"\"Monte Carlo tree search.\"\"\"\n",
    "    def __init__(self, board, game_id=None):\n",
    "        self.board = board\n",
    "        # In the root node it's player 1's \"fake\" turn. \n",
    "        # This has the desired effect that the root's children will play\n",
    "        # as player 0, who makes the first move.\n",
    "        self.root = Node(None, 1, None)\n",
    "        self.rng = np.random.default_rng()\n",
    "        if not game_id:\n",
    "            game_id = uuid4().hex[:12]\n",
    "        self.game_id = game_id\n",
    "        \n",
    "    def rollout(self, board, player):\n",
    "        \"\"\"Play a random game till the end, starting with board and player on the move.\"\"\"\n",
    "        for i in range(200):\n",
    "            moves = board.next_moves(player)\n",
    "            if not moves:\n",
    "                # No more moves for the player. See if the other player can continue.\n",
    "                player = 1 - player\n",
    "                moves = board.next_moves(player)\n",
    "            if not moves:\n",
    "                return board.result()\n",
    "            b.make_move(player, moves[self.rng.integers(0, len(moves))])\n",
    "            player = 1 - player\n",
    "        raise ValueError(\"Never finished rollout\")\n",
    "\n",
    "    def backpropagate(self, node, result):\n",
    "        while node:\n",
    "            node.visit_count += 1\n",
    "            if node.player == 0:\n",
    "                node.wins += (result + 1) / 2\n",
    "            else:\n",
    "                node.wins += (-result + 1) / 2\n",
    "            node = node.parent\n",
    "\n",
    "    def size(self):\n",
    "        q = [self.root]\n",
    "        s = 0\n",
    "        while q:\n",
    "            n = q.pop()\n",
    "            s += 1\n",
    "            q.extend(n.children)\n",
    "        return s\n",
    "        \n",
    "    def run(self):\n",
    "        \"\"\"Runs a single round of the MCTS loop.\"\"\"\n",
    "        b = Board(self.board)\n",
    "        n = self.root\n",
    "        # Find leaf node.\n",
    "        while n.children:\n",
    "            best = None\n",
    "            best_uct = -1\n",
    "            for c in n.children:\n",
    "                c_uct = c.uct()\n",
    "                if c_uct > best_uct:\n",
    "                    best = c\n",
    "                    best_uct = c_uct\n",
    "            b.make_move(best.player, best.move)\n",
    "            n = best\n",
    "        # Reached a leaf node: expand\n",
    "        player = 1 - n.player  # Usually it's the other player's turn.\n",
    "        moves = b.next_moves(player)\n",
    "        if not moves:\n",
    "            # No more moves for player. Try other player.\n",
    "            player = 1 - player\n",
    "            moves = b.next_moves(player)\n",
    "        if not moves:\n",
    "            # Game is over\n",
    "            self.backpropagate(n, b.result())\n",
    "            return\n",
    "        # Rollout time!\n",
    "        for move in moves:\n",
    "            n.children.append(Node(n, player, move))\n",
    "        c = n.children[self.rng.integers(0, len(n.children))]\n",
    "        b.make_move(c.player, c.move)\n",
    "        result = self.rollout(b, 1 - c.player)\n",
    "        self.backpropagate(c, result)\n",
    "        \n",
    "    def play_game(self, runs_per_move=500):\n",
    "        \"\"\"Plays one full game and returns the move likelihoods per move and the final result.\n",
    "        \n",
    "        Args:\n",
    "            runs_per_move: number of MCTS runs to make per move.\n",
    "        \"\"\"\n",
    "        examples = []\n",
    "        result = None\n",
    "        n = 0\n",
    "        started = time.perf_counter()\n",
    "        while n < 200:\n",
    "            for i in range(runs_per_move):\n",
    "                self.run()\n",
    "            best_child = self.root.best_child()\n",
    "            if not best_child:\n",
    "                # Game over\n",
    "                result = self.board.result()\n",
    "                break\n",
    "            examples.append(Example(self.game_id, self.board.b.copy(), \n",
    "                                    self.root.move_likelihoods(), best_child.player, None))\n",
    "            # Make the move.\n",
    "            self.board.make_move(best_child.player, best_child.move)\n",
    "            self.root = best_child\n",
    "            self.root.parent = None  # Allow GC and avoid backprop further up.\n",
    "            if n < 5 or n%10 == 0:\n",
    "                print(f\"Iteration {n}: visit_count:{best_child.visit_count} \",\n",
    "                      f\"move:{best_child.move} player:{best_child.player} score:{self.board.score()}\")\n",
    "            n += 1\n",
    "        if n == 200:\n",
    "            raise ValueError(f\"Iterated {n} times. Something's fishy.\")\n",
    "        elapsed = time.perf_counter() - started\n",
    "        print(f\"Done in {elapsed:.3f}s after {n} moves. Final score: {self.board.score()}.\")\n",
    "        # Update all examples with result.\n",
    "        for ex in examples:\n",
    "            ex.result = result\n",
    "        return examples\n"
   ]
  },
  {
   "cell_type": "code",
   "execution_count": null,
   "id": "b4e8d049",
   "metadata": {
    "tags": []
   },
   "outputs": [],
   "source": [
    "%%prun\n",
    "\n",
    "b = Board()\n",
    "m = MCTS(b)\n",
    "for _ in range(1000):\n",
    "    m.run()\n",
    "# m.root.children"
   ]
  },
  {
   "cell_type": "code",
   "execution_count": 338,
   "id": "9cff5a18",
   "metadata": {
    "tags": []
   },
   "outputs": [
    {
     "name": "stdout",
     "output_type": "stream",
     "text": [
      "Iteration 0: visit_count:3  move:(0, 0, 5, 1) player:0 score:(0.0, 0.0)\n",
      "Iteration 1: visit_count:3  move:(0, 0, 2, 1) player:1 score:(0.0, 0.0)\n",
      "Iteration 2: visit_count:3  move:(0, 0, 3, 1) player:0 score:(0.0, 0.0)\n",
      "Iteration 3: visit_count:3  move:(0, 0, 6, 1) player:1 score:(0.0, 0.0)\n",
      "Iteration 4: visit_count:3  move:(0, 1, 2, 1) player:0 score:(0.0, 0.0)\n",
      "Iteration 10: visit_count:4  move:(1, 2, 3, 1.0) player:0 score:(3.0, 2.0)\n",
      "Iteration 20: visit_count:4  move:(1, 2, 0, 3.0) player:0 score:(12.0, 9.0)\n",
      "Iteration 30: visit_count:6  move:(1, 5, 3, 4.0) player:0 score:(26.0, 24.0)\n",
      "Iteration 40: visit_count:6  move:(1, 5, 2, 4.0) player:0 score:(44.0, 46.0)\n",
      "Done in 0.133s after 46 moves. Final score: (55.0, 51.0).\n"
     ]
    }
   ],
   "source": [
    "m = MCTS(Board())\n",
    "xs = m.play_game(10)"
   ]
  },
  {
   "cell_type": "code",
   "execution_count": 339,
   "id": "cac62b2c",
   "metadata": {
    "tags": []
   },
   "outputs": [],
   "source": [
    "Example.save_all(\"test32.h5\", xs)"
   ]
  },
  {
   "cell_type": "code",
   "execution_count": 342,
   "id": "677d7b6a",
   "metadata": {
    "tags": []
   },
   "outputs": [
    {
     "data": {
      "text/plain": [
       "dtype('float32')"
      ]
     },
     "execution_count": 342,
     "metadata": {},
     "output_type": "execute_result"
    }
   ],
   "source": [
    "Example.load_all(\"test32.h5\")[0].board.dtype"
   ]
  },
  {
   "cell_type": "code",
   "execution_count": 197,
   "id": "a8e72e6e",
   "metadata": {
    "tags": []
   },
   "outputs": [],
   "source": [
    "class HexzDataset(torch.utils.data.Dataset):\n",
    "    \"\"\"PyTorch Dataset implementation to read Hexz samples from HDF5.\"\"\"\n",
    "    def __init__(self, path):\n",
    "        self.h5 = h5py.File(path, \"r\")\n",
    "        self.length = len(self.h5)\n",
    "        self.keys = list(self.h5.keys())\n",
    "        \n",
    "    def __getitem__(self, k):\n",
    "        \"\"\"Returns the board as the X and two labels: move likelihoods (2, 11, 10) and (1) result.\n",
    "        \n",
    "        The collation function the PyTorch DataLoader handles this properly and returns a tuple\n",
    "        of batches for the labels.\n",
    "        \"\"\"\n",
    "        data = self.h5[self.keys[k]]\n",
    "        # data[\"turn\"][0] ignored for now.\n",
    "        return data[\"board\"][:], (data[\"move_probs\"][:], data[\"result\"][:])\n",
    "\n",
    "    def __len__(self):\n",
    "        return self.length\n",
    "        "
   ]
  },
  {
   "cell_type": "code",
   "execution_count": 198,
   "id": "27b7d2fc",
   "metadata": {
    "tags": []
   },
   "outputs": [
    {
     "name": "stdout",
     "output_type": "stream",
     "text": [
      "Shape of X [N, C, H, W]: torch.Size([16, 9, 11, 10]): torch.float64\n",
      "Shape of y_pr [N, C, H, W]: torch.Size([64, 2, 11, 10]): torch.float64\n",
      "Shape of y_val [N, V]: torch.Size([64, 1]): torch.float64\n"
     ]
    }
   ],
   "source": [
    "# Now we can use the standard torch DataLoader to iterate over our samples.\n",
    "batch_size = 16\n",
    "\n",
    "ds = HexzDataset(\"test.h5\")\n",
    "loader = torch.utils.data.DataLoader(dataset=ds, batch_size=batch_size, shuffle=True)\n",
    "for X, (y_pr, y_val) in loader:\n",
    "    print(f\"Shape of X [N, C, H, W]: {X.shape}: {X.dtype}\")\n",
    "    print(f\"Shape of y_pr [N, C, H, W]: {y1.shape}: {y1.dtype}\")\n",
    "    print(f\"Shape of y_val [N, V]: {y2.shape}: {y2.dtype}\")\n",
    "    break"
   ]
  },
  {
   "cell_type": "code",
   "execution_count": 210,
   "id": "9a3021ec-f14a-4ae2-a882-2c2d4be46954",
   "metadata": {
    "tags": []
   },
   "outputs": [],
   "source": [
    "class HexzNeuralNetwork(nn.Module):\n",
    "    def __init__(self):\n",
    "        super().__init__()\n",
    "        board_channels = 9\n",
    "        cnn_channels = 32\n",
    "        self.features = nn.Sequential(\n",
    "            # First CNN layer\n",
    "            nn.Conv2d(board_channels, cnn_channels, kernel_size=3),  # [N, cnn_channels, 11-2, 10-2]\n",
    "            nn.BatchNorm2d(cnn_channels), \n",
    "            nn.ReLU(),\n",
    "            # Second CNN layer\n",
    "            nn.Conv2d(cnn_channels, cnn_channels, kernel_size=3),  # # [N, cnn_channels, 7, 6]\n",
    "            nn.BatchNorm2d(cnn_channels),\n",
    "            nn.ReLU(),\n",
    "        )\n",
    "        fc_size = 256\n",
    "        self.fc = nn.Sequential(\n",
    "            nn.Linear(cnn_channels * 7 * 6, fc_size),\n",
    "            nn.BatchNorm1d(fc_size), \n",
    "            nn.ReLU(),\n",
    "            nn.Linear(fc_size, fc_size),\n",
    "        )\n",
    "        self.move_probs = nn.Linear(fc_size, 2 * 11 * 10)\n",
    "        self.value = nn.Linear(256, 1)\n",
    "\n",
    "    def forward(self, x):\n",
    "        x = self.features(x)\n",
    "        x = torch.flatten(x, 1)\n",
    "        x = self.fc(x)\n",
    "        pi = self.move_probs(x)\n",
    "        v = self.value(x)\n",
    "        return F.log_softmax(pi, dim=1), torch.tanh(v)\n"
   ]
  },
  {
   "cell_type": "code",
   "execution_count": 202,
   "id": "67ad0443-4187-4bd2-844e-d2015b79c814",
   "metadata": {
    "tags": []
   },
   "outputs": [
    {
     "name": "stdout",
     "output_type": "stream",
     "text": [
      "Using mps device\n",
      "HexzNeuralNetwork(\n",
      "  (features): Sequential(\n",
      "    (0): Conv2d(9, 32, kernel_size=(3, 3), stride=(1, 1))\n",
      "    (1): BatchNorm2d(32, eps=1e-05, momentum=0.1, affine=True, track_running_stats=True)\n",
      "    (2): ReLU()\n",
      "    (3): Conv2d(32, 32, kernel_size=(3, 3), stride=(1, 1))\n",
      "    (4): BatchNorm2d(32, eps=1e-05, momentum=0.1, affine=True, track_running_stats=True)\n",
      "    (5): ReLU()\n",
      "  )\n",
      "  (fc): Sequential(\n",
      "    (0): Linear(in_features=1344, out_features=256, bias=True)\n",
      "    (1): BatchNorm1d(256, eps=1e-05, momentum=0.1, affine=True, track_running_stats=True)\n",
      "    (2): ReLU()\n",
      "    (3): Linear(in_features=256, out_features=256, bias=True)\n",
      "  )\n",
      "  (move_probs): Linear(in_features=256, out_features=220, bias=True)\n",
      "  (value): Linear(in_features=256, out_features=1, bias=True)\n",
      ")\n"
     ]
    }
   ],
   "source": [
    "device = (\n",
    "    \"cuda\"\n",
    "    if torch.cuda.is_available()\n",
    "    else \"mps\"\n",
    "    if torch.backends.mps.is_available()\n",
    "    else \"cpu\"\n",
    ")\n",
    "print(f\"Using {device} device\")\n",
    "\n",
    "model = HexzNeuralNetwork().to(device)\n",
    "print(model)"
   ]
  },
  {
   "cell_type": "code",
   "execution_count": null,
   "id": "d6be4b77-5b5a-4c97-bbd8-d09fa282173a",
   "metadata": {
    "tags": []
   },
   "outputs": [],
   "source": [
    "pr_loss_fn = nn.CrossEntropyLoss()\n",
    "val_loss_fn = nn.MSELoss()\n",
    "optimizer = torch.optim.Adam(model.parameters(), lr=1e-3)\n",
    "\n",
    "total_samples = len(loader.dataset)\n",
    "\n",
    "for epoch in range(20):\n",
    "    for batch, (X, (y_pr, y_val)) in enumerate(loader):\n",
    "        started = time.perf_counter()\n",
    "        # Convert inputs and send to device.\n",
    "        X = X.to(device, dtype=torch.float32)\n",
    "        y_pr = y_pr.to(device, dtype=torch.float32)\n",
    "        y_val = y_val.to(device, dtype=torch.float32)\n",
    "\n",
    "        # Predict\n",
    "        pred_pr, pred_val = model(X)\n",
    "        # print(\"Predicted value:\", pred_val[0])\n",
    "        # print(\"Predicted logits:\", pred_pr.flatten(1)[0])\n",
    "\n",
    "        # Compute loss\n",
    "        pr_loss = pr_loss_fn(pred_pr.flatten(1), y_pr.flatten(1))\n",
    "        val_loss = val_loss_fn(pred_val, y_val)\n",
    "        loss = pr_loss + val_loss\n",
    "        # print(\"Actual lekkers:\", y_pr.flatten(1)[0])\n",
    "        # print(\"Actual value:\", y_val.flatten(1)[0])\n",
    "        # print(\"Losses (pr, val):\", pr_loss, val_loss)\n",
    "        # Backpropagation\n",
    "        loss.backward()\n",
    "        optimizer.step()\n",
    "        optimizer.zero_grad()\n",
    "\n",
    "        elapsed = time.perf_counter() - started\n",
    "        print(f\"batch {batch} in {elapsed:.3f}s\")\n",
    "\n",
    "        if True or batch % 100 == 0:\n",
    "            loss, current = loss.item(), (batch + 1) * len(X)\n",
    "            print(f\"loss: {loss:>7f}  [{current:>5d}/{total_samples:>5d}]\")\n",
    "print(\"Done.\")"
   ]
  },
  {
   "cell_type": "code",
   "execution_count": 345,
   "id": "a42f5ce4-8d33-4c4c-b401-1f1ccb5d3111",
   "metadata": {
    "tags": []
   },
   "outputs": [],
   "source": [
    "from torch.profiler import profile, record_function, ProfilerActivity"
   ]
  },
  {
   "cell_type": "code",
   "execution_count": 348,
   "id": "85f1f837-1805-450b-b4b2-5f215471db26",
   "metadata": {
    "tags": []
   },
   "outputs": [],
   "source": [
    "class NNode:\n",
    "    \"\"\"Nodes of the NeuralMCTS tree.\"\"\"\n",
    "    def __init__(self, parent, player, move, move_probs, value):\n",
    "        self.parent = parent\n",
    "        self.player = player\n",
    "        self.move = move\n",
    "        self.wins = 0.0\n",
    "        self.visit_count = 0\n",
    "        self.children = []\n",
    "        self.move_probs = move_probs\n",
    "        self.value = value\n",
    "    \n",
    "    @timing\n",
    "    def uct(self):\n",
    "        typ, r, c, _ = self.move\n",
    "        pvc = self.parent.visit_count\n",
    "        vc = max(1, self.visit_count)\n",
    "        return (\n",
    "            self.value + \n",
    "            self.parent.move_probs[typ, r, c] * np.sqrt(np.log(pvc) / vc)\n",
    "        )\n",
    "\n",
    "    def __str__(self):\n",
    "        return f\"Node(p={self.player}, m={self.move}, w={self.wins/self.visit_count:.3f}, n={self.visit_count}, u={self.uct():.3f}, cs={len(self.children)})\"\n",
    "\n",
    "    def __repr__(self):\n",
    "        return str(self)\n",
    "    \n",
    "    @timing\n",
    "    def move_likelihoods(self):\n",
    "        \"\"\"Returns the move likelihoods for all children as a (2, 11, 10) ndarray.\n",
    "        \n",
    "        The ndarray indicates the likelihoods (based on visit count) for flags\n",
    "        and normal moves. It sums to 1.\n",
    "        \"\"\"\n",
    "        p = np.zeros((2, 11, 10))\n",
    "        for child in self.children:\n",
    "            typ, r, c, _ = child.move\n",
    "            p[typ, r, c] = child.visit_count\n",
    "        return p / p.sum()\n",
    "    \n",
    "    @timing\n",
    "    def best_child(self):\n",
    "        \"\"\"Returns the best among all children.\n",
    "        \n",
    "        The best child is the one with the greatest visit count, a common\n",
    "        choice in the MCTS literature.\n",
    "        \"\"\"\n",
    "        return max(self.children, default=None, key=lambda n: n.visit_count)\n",
    "\n",
    "        \n",
    "class NeuralMCTS:\n",
    "    \"\"\"Monte Carlo tree search with a neural network (AlphaZero style).\"\"\"\n",
    "    @timing\n",
    "    def __init__(self, board, model, game_id=None):\n",
    "        self.board = board\n",
    "        self.model = model\n",
    "        self.rng = np.random.default_rng()\n",
    "        if not game_id:\n",
    "            game_id = uuid4().hex[:12]\n",
    "        self.game_id = game_id\n",
    "\n",
    "        model.eval()  # Training is done outside of NeuralMCTS\n",
    "        # Predict move probabilities for root up front.\n",
    "        move_probs, val = self.predict(board)\n",
    "        # In the root node it's player 1's \"fake\" turn. \n",
    "        # This has the desired effect that the root's children will play\n",
    "        # as player 0, who makes the first move.\n",
    "        self.root = NNode(None, 1, None, move_probs, val)\n",
    "        # Manual profiling information. Looks like %prun does not work with Torch?\n",
    "        \n",
    "    @timing\n",
    "    def backpropagate(self, node, result):\n",
    "        while node:\n",
    "            node.visit_count += 1\n",
    "            if node.player == 0:\n",
    "                node.wins += (result + 1) / 2\n",
    "            else:\n",
    "                node.wins += (-result + 1) / 2\n",
    "            node = node.parent\n",
    "\n",
    "    def size(self):\n",
    "        q = [self.root]\n",
    "        s = 0\n",
    "        while q:\n",
    "            n = q.pop()\n",
    "            s += 1\n",
    "            q.extend(n.children)\n",
    "        return s\n",
    "        \n",
    "    @timing\n",
    "    def predict(self, board):\n",
    "        X = torch.from_numpy(board.b).to(device, dtype=torch.float32)\n",
    "        with torch.no_grad():\n",
    "            pred_pr, pred_val = self.model(torch.unsqueeze(X, 0))\n",
    "            pred_pr = torch.exp(pred_pr).reshape((2, 11, 10))\n",
    "            return pred_pr, pred_val.item()\n",
    "    \n",
    "    @timing\n",
    "    def run(self):\n",
    "        \"\"\"Runs a single round of the neural MCTS loop.\"\"\"\n",
    "        b = Board(self.board)\n",
    "        n = self.root\n",
    "        # Find leaf node.\n",
    "        while n.children:\n",
    "            best = None\n",
    "            best_uct = -1\n",
    "            for c in n.children:\n",
    "                c_uct = c.uct()\n",
    "                if c_uct > best_uct:\n",
    "                    best = c\n",
    "                    best_uct = c_uct\n",
    "            b.make_move(best.player, best.move)\n",
    "            n = best\n",
    "        # Reached a leaf node: expand\n",
    "        player = 1 - n.player  # Usually it's the other player's turn.\n",
    "        moves = b.next_moves(player)\n",
    "        if not moves:\n",
    "            # No more moves for player. Try other player.\n",
    "            player = 1 - player\n",
    "            moves = b.next_moves(player)\n",
    "        if not moves:\n",
    "            # Game is over\n",
    "            self.backpropagate(n, b.result())\n",
    "            return\n",
    "        # Neural network time! Predict value and policy for each child.\n",
    "        model = self.model\n",
    "        for move in moves:\n",
    "            cb = Board(b)\n",
    "            cb.make_move(player, move)\n",
    "            move_probs, val = self.predict(cb)\n",
    "            n.children.append(NNode(n, player, move, move_probs, val))\n",
    "        c = n.children[self.rng.integers(0, len(n.children))]\n",
    "        b.make_move(c.player, c.move)\n",
    "        self.backpropagate(c, c.value)\n",
    "    \n",
    "    def play_game(self, runs_per_move=500, max_moves=200):\n",
    "        \"\"\"Plays one full game and returns the move likelihoods per move and the final result.\n",
    "        \n",
    "        Args:\n",
    "            runs_per_move: number of MCTS runs to make per move.\n",
    "        \"\"\"\n",
    "        examples = []\n",
    "        result = None\n",
    "        n = 0\n",
    "        started = time.perf_counter()\n",
    "        with profile(activities=[ProfilerActivity.CPU]) as prof:\n",
    "            with record_function(\"model_inference\"):\n",
    "                while n < max_moves:\n",
    "                    for i in range(runs_per_move):\n",
    "                        self.run()\n",
    "                    best_child = self.root.best_child()\n",
    "                    if not best_child:\n",
    "                        # Game over\n",
    "                        result = self.board.result()\n",
    "                        break\n",
    "                    examples.append(Example(self.game_id, self.board.b.copy(), \n",
    "                                            self.root.move_likelihoods(), best_child.player, None))\n",
    "                    # Make the move.\n",
    "                    self.board.make_move(best_child.player, best_child.move)\n",
    "                    self.root = best_child\n",
    "                    self.root.parent = None  # Allow GC and avoid backprop further up.\n",
    "                    if n < 5 or n%10 == 0:\n",
    "                        print(f\"Iteration {n}: visit_count:{best_child.visit_count} \",\n",
    "                              f\"move:{best_child.move} player:{best_child.player} score:{self.board.score()}\")\n",
    "                    n += 1\n",
    "        print(prof.key_averages().table(sort_by=\"cpu_time_total\", row_limit=10))\n",
    "        elapsed = time.perf_counter() - started\n",
    "        if n == max_moves:\n",
    "            print(f\"Reached max iterations ({n}) after {elapsed:.3f}s. Returning early.\")\n",
    "            return []\n",
    "        print(f\"Done in {elapsed:.3f}s after {n} moves. Final score: {self.board.score()}.\")\n",
    "        # Update all examples with result.\n",
    "        for ex in examples:\n",
    "            ex.result = result\n",
    "        return examples\n"
   ]
  },
  {
   "cell_type": "code",
   "execution_count": 4,
   "id": "9a5cbdcd-8c24-4f2a-8500-c6795a1492f5",
   "metadata": {
    "tags": []
   },
   "outputs": [
    {
     "name": "stdout",
     "output_type": "stream",
     "text": [
      "method                   total_sec      count      ops/s\n",
      "CBoard.__init__             0.002s         21     8872.0\n",
      "NeuralMCTS.predict          0.026s         21      795.6\n",
      "run_find_leaf               0.001s         20    18885.7\n",
      "PurePyBoard.next_moves      0.001s         20    20876.8\n",
      "NeuralMCTS.run              0.027s         20      736.1\n"
     ]
    }
   ],
   "source": [
    "import hexz\n",
    "hexz.clear_perf_stats()\n",
    "\n",
    "b = hexz.Board()\n",
    "device = 'cpu'\n",
    "model = hexz.HexzNeuralNetwork().to(device)\n",
    "m = hexz.NeuralMCTS(b, model, \"CPU\")\n",
    "for i in range(20):\n",
    "    _ = m.run() # play_game(50, max_moves=1)\n",
    "\n",
    "hexz.print_perf_stats()"
   ]
  },
  {
   "cell_type": "code",
   "execution_count": 333,
   "id": "3c5930ea-56a4-464b-8778-c07b0c50a9b8",
   "metadata": {
    "tags": []
   },
   "outputs": [
    {
     "name": "stdout",
     "output_type": "stream",
     "text": [
      "method                     total_sec      count      ops/s\n",
      "CBoard.__init__               0.069s      26447   383668.0\n",
      "NeuralMCTS.predict           51.600s      26147      506.7\n",
      "NeuralMCTS.__init__           0.005s          1      182.4\n",
      "PurePyBoard.next_moves        0.016s        300    18512.8\n",
      "CBoard.make_move              0.099s      26910   273031.7\n",
      "NeuralMCTS.backpropagate      0.001s        300   402144.8\n",
      "NeuralMCTS.run               69.224s        300        4.3\n",
      "NNode.uct                     5.550s      39710     7154.9\n",
      "NNode.best_child              0.000s          3    66666.7\n",
      "NNode.move_likelihoods        0.000s          3    21582.7\n"
     ]
    }
   ],
   "source": [
    "perf_stats()"
   ]
  },
  {
   "cell_type": "markdown",
   "id": "24eaad4b-9010-4c2b-ae73-a9321d72bacd",
   "metadata": {},
   "source": [
    "# LANDFILL"
   ]
  },
  {
   "cell_type": "code",
   "execution_count": null,
   "id": "92a7e16f-5935-4592-9ab5-2b05df460414",
   "metadata": {},
   "outputs": [],
   "source": []
  },
  {
   "cell_type": "code",
   "execution_count": 138,
   "id": "138dd51d-15f8-48eb-9372-b99bf0f5c6a3",
   "metadata": {
    "tags": []
   },
   "outputs": [
    {
     "data": {
      "text/plain": [
       "Text(0.5, 1.0, 'tanh(x)')"
      ]
     },
     "execution_count": 138,
     "metadata": {},
     "output_type": "execute_result"
    },
    {
     "data": {
      "image/png": "[encoded data removed]",
      "text/plain": [
       "<Figure size 640x480 with 1 Axes>"
      ]
     },
     "metadata": {},
     "output_type": "display_data"
    }
   ],
   "source": [
    "X = np.linspace(-5, 5)\n",
    "Y = np.tanh(X)\n",
    "plt.plot(X, Y)\n",
    "plt.title(\"tanh(x)\")"
   ]
  },
  {
   "cell_type": "code",
   "execution_count": 354,
   "id": "1c73df26-2738-44dd-bd1c-5244ecca88a3",
   "metadata": {
    "tags": []
   },
   "outputs": [
    {
     "data": {
      "text/plain": [
       "<matplotlib.legend.Legend at 0x67bdf6790>"
      ]
     },
     "execution_count": 354,
     "metadata": {},
     "output_type": "execute_result"
    },
    {
     "data": {
      "image/png": "[encoded data removed]",
      "text/plain": [
       "<Figure size 640x480 with 1 Axes>"
      ]
     },
     "metadata": {},
     "output_type": "display_data"
    }
   ],
   "source": [
    "X = np.linspace(0.001, 0.999)\n",
    "Y = np.log(X)\n",
    "# plt.plot(X, Y, label='Y')\n",
    "plt.plot(X, X*Y, label='X*Y')\n",
    "plt.plot(X, X*np.log(1-X), label='X*Y')\n",
    "plt.legend()"
   ]
  },
  {
   "cell_type": "code",
   "execution_count": 374,
   "id": "20ff32ad-2ce1-412c-b7a5-0ab5b062d3dc",
   "metadata": {
    "tags": []
   },
   "outputs": [
    {
     "name": "stdout",
     "output_type": "stream",
     "text": [
      "{'data': (12114779648, False), 'strides': None, 'descr': [('', '<i8')], 'typestr': '<i8', 'shape': (9, 11, 10), 'version': 3}\n",
      "{'data': (12114779648, False), 'strides': None, 'descr': [('', '<i8')], 'typestr': '<i8', 'shape': (9, 11, 10), 'version': 3}\n"
     ]
    }
   ],
   "source": [
    "x = np.arange(9*11*10).reshape((9, 11, 10))\n",
    "print(x.__array_interface__)\n",
    "x[0:4], x[4:8] = x[4:8], x[0:4].copy()\n",
    "print(x.__array_interface__)"
   ]
  },
  {
   "cell_type": "code",
   "execution_count": 376,
   "id": "1fb1b496-f97d-45d4-95ce-846e5f852a32",
   "metadata": {
    "tags": []
   },
   "outputs": [
    {
     "data": {
      "text/plain": [
       "{'data': (5082323968, False),\n",
       " 'strides': None,\n",
       " 'descr': [('', '<i8')],\n",
       " 'typestr': '<i8',\n",
       " 'shape': (2, 11, 10),\n",
       " 'version': 3}"
      ]
     },
     "execution_count": 376,
     "metadata": {},
     "output_type": "execute_result"
    }
   ],
   "source": [
    "x[[0,2]].__array_interface__"
   ]
  },
  {
   "cell_type": "code",
   "execution_count": 390,
   "id": "9ea8a92d-4cb8-4cab-91f1-76604578cabf",
   "metadata": {
    "tags": []
   },
   "outputs": [],
   "source": [
    "x = np.arange(9*11*10).reshape((9, 11, 10))\n"
   ]
  },
  {
   "cell_type": "code",
   "execution_count": 392,
   "id": "92fcad90-7328-4946-b1d1-886f82f3dbd2",
   "metadata": {
    "tags": []
   },
   "outputs": [
    {
     "name": "stdout",
     "output_type": "stream",
     "text": [
      "882 ns ± 3.89 ns per loop (mean ± std. dev. of 7 runs, 1,000,000 loops each)\n"
     ]
    }
   ],
   "source": [
    "%%timeit\n",
    "x[0:4], x[4:8] = x[4:8], x[0:4].copy()"
   ]
  },
  {
   "cell_type": "code",
   "execution_count": 393,
   "id": "f47d7264-6d1a-4a50-9e0f-d3b712cee3d1",
   "metadata": {
    "tags": []
   },
   "outputs": [
    {
     "name": "stdout",
     "output_type": "stream",
     "text": [
      "955 ns ± 14.8 ns per loop (mean ± std. dev. of 7 runs, 1,000,000 loops each)\n"
     ]
    }
   ],
   "source": [
    "%%timeit\n",
    "y = x.copy()\n",
    "y[0:4], y[4:8] = x[4:8], x[0:4]"
   ]
  },
  {
   "cell_type": "code",
   "execution_count": 383,
   "id": "3b8f9d25-3c87-4cff-9181-9607d70bcee8",
   "metadata": {},
   "outputs": [
    {
     "name": "stdout",
     "output_type": "stream",
     "text": [
      "1.52 µs ± 2.47 ns per loop (mean ± std. dev. of 7 runs, 1,000,000 loops each)\n"
     ]
    }
   ],
   "source": [
    "%%timeit\n",
    "x[0:4, :, :], x[4:8, :, :] = x[4:8, :, :], x[0:4, :, :].copy()\n"
   ]
  },
  {
   "cell_type": "code",
   "execution_count": 382,
   "id": "69f24245-329c-4b88-85e7-cc08b2f65bfc",
   "metadata": {
    "tags": []
   },
   "outputs": [
    {
     "name": "stdout",
     "output_type": "stream",
     "text": [
      "2.7 µs ± 9.37 ns per loop (mean ± std. dev. of 7 runs, 100,000 loops each)\n"
     ]
    }
   ],
   "source": [
    "%%timeit\n",
    "x[[0,1], :, :] = x[[1,0], :, :]\n"
   ]
  },
  {
   "cell_type": "code",
   "execution_count": 387,
   "id": "0fae30a9-f9fe-4ac1-8f68-e6ff354cd043",
   "metadata": {
    "tags": []
   },
   "outputs": [],
   "source": [
    "class A:\n",
    "    def __init__(self):\n",
    "        self.x = 0\n",
    "    def f(self):\n",
    "        self.x += x + 1\n",
    "class B(A):\n",
    "    pass\n",
    "\n",
    "\n",
    "        "
   ]
  },
  {
   "cell_type": "code",
   "execution_count": 388,
   "id": "264fda58-40bf-4b98-a7fb-cef60ef0eb27",
   "metadata": {
    "tags": []
   },
   "outputs": [
    {
     "name": "stdout",
     "output_type": "stream",
     "text": [
      "1.26 ms ± 2.54 µs per loop (mean ± std. dev. of 7 runs, 1,000 loops each)\n"
     ]
    }
   ],
   "source": [
    "%%timeit\n",
    "a = A()\n",
    "for i in range(1000):\n",
    "    a.f()"
   ]
  },
  {
   "cell_type": "code",
   "execution_count": 389,
   "id": "738d77b7-c2a4-4aa9-ac24-81899c1d53c0",
   "metadata": {
    "tags": []
   },
   "outputs": [
    {
     "name": "stdout",
     "output_type": "stream",
     "text": [
      "1.27 ms ± 6.51 µs per loop (mean ± std. dev. of 7 runs, 1,000 loops each)\n"
     ]
    }
   ],
   "source": [
    "%%timeit\n",
    "a = B()\n",
    "for i in range(1000):\n",
    "    a.f()"
   ]
  },
  {
   "cell_type": "code",
   "execution_count": 50,
   "id": "c3bd1baa",
   "metadata": {},
   "outputs": [
    {
     "data": {
      "text/plain": [
       "<module 'hexz' from '/Users/denniswalter/git/github.com/dnswlt/hexz/python/hexz.py'>"
      ]
     },
     "execution_count": 50,
     "metadata": {},
     "output_type": "execute_result"
    }
   ],
   "source": [
    "# Distribution of move likelihoods of Go-generated samples.\n",
    "# Goal: ensure we don't train the model with 95% samples that have a uniform likelihood for any move.\n",
    "import hexz\n",
    "import importlib\n",
    "importlib.reload(hexz)\n"
   ]
  },
  {
   "cell_type": "code",
   "execution_count": 52,
   "id": "ff92be67",
   "metadata": {},
   "outputs": [],
   "source": [
    "ds = hexz.HexzDataset(\"/Users/denniswalter/git/github.com/dnswlt/hexz-models/models/flagz/genesis/checkpoints/0/examples/examples-20231014-*.h5\")"
   ]
  },
  {
   "cell_type": "code",
   "execution_count": 53,
   "id": "c8690fae",
   "metadata": {},
   "outputs": [
    {
     "data": {
      "text/plain": [
       "200714"
      ]
     },
     "execution_count": 53,
     "metadata": {},
     "output_type": "execute_result"
    }
   ],
   "source": [
    "len(ds)"
   ]
  },
  {
   "cell_type": "code",
   "execution_count": 54,
   "id": "f54d1125",
   "metadata": {},
   "outputs": [
    {
     "name": "stdout",
     "output_type": "stream",
     "text": [
      "Record 10000\n",
      "Record 20000\n",
      "Record 30000\n",
      "Record 40000\n",
      "Record 50000\n",
      "Record 60000\n",
      "Record 70000\n",
      "Record 80000\n",
      "Record 90000\n",
      "Record 100000\n",
      "Record 110000\n",
      "Record 120000\n",
      "Record 130000\n",
      "Record 140000\n",
      "Record 150000\n",
      "Record 160000\n",
      "Record 170000\n",
      "Record 180000\n",
      "Record 190000\n",
      "Record 200000\n"
     ]
    }
   ],
   "source": [
    "sigmas = np.zeros(len(ds))\n",
    "spreads = np.zeros(len(ds))\n",
    "n = 0\n",
    "for _, (p, _) in ds:\n",
    "    v = p[p != 0]\n",
    "    sigmas[n] = v.std()\n",
    "    spreads[n] = v.max() - v.min()\n",
    "    n += 1\n",
    "    if n % 10000 == 0:\n",
    "        print(f\"Record {n}\")"
   ]
  },
  {
   "cell_type": "code",
   "execution_count": 55,
   "id": "d6781a75",
   "metadata": {},
   "outputs": [
    {
     "data": {
      "image/png": "[encoded data removed]",
      "text/plain": [
       "<Figure size 1600x800 with 1 Axes>"
      ]
     },
     "metadata": {},
     "output_type": "display_data"
    }
   ],
   "source": [
    "_, axs = plt.subplots(1, 1, figsize=(16,8))\n",
    "# axs[0].hist(sigmas, bins=20)\n",
    "_ = axs.hist(spreads, bins=20)"
   ]
  },
  {
   "cell_type": "code",
   "execution_count": 56,
   "id": "320a4253",
   "metadata": {},
   "outputs": [
    {
     "data": {
      "text/plain": [
       "array([0.00000000e+00, 1.00001693e-02, 5.05999960e+00, 1.95900008e+01,\n",
       "       3.80499989e+01, 7.70099998e+01])"
      ]
     },
     "execution_count": 56,
     "metadata": {},
     "output_type": "execute_result"
    }
   ],
   "source": [
    "np.quantile(spreads * 100, q=[0.1, 0.25, 0.5, 0.75, 0.9, 0.99])"
   ]
  },
  {
   "cell_type": "code",
   "execution_count": 25,
   "id": "14175439",
   "metadata": {},
   "outputs": [
    {
     "data": {
      "text/html": [
       "<div>\n",
       "<style scoped>\n",
       "    .dataframe tbody tr th:only-of-type {\n",
       "        vertical-align: middle;\n",
       "    }\n",
       "\n",
       "    .dataframe tbody tr th {\n",
       "        vertical-align: top;\n",
       "    }\n",
       "\n",
       "    .dataframe thead th {\n",
       "        text-align: right;\n",
       "    }\n",
       "</style>\n",
       "<table border=\"1\" class=\"dataframe\">\n",
       "  <thead>\n",
       "    <tr style=\"text-align: right;\">\n",
       "      <th></th>\n",
       "      <th>0</th>\n",
       "    </tr>\n",
       "  </thead>\n",
       "  <tbody>\n",
       "    <tr>\n",
       "      <th>count</th>\n",
       "      <td>50201.000000</td>\n",
       "    </tr>\n",
       "    <tr>\n",
       "      <th>mean</th>\n",
       "      <td>12.799569</td>\n",
       "    </tr>\n",
       "    <tr>\n",
       "      <th>std</th>\n",
       "      <td>17.775324</td>\n",
       "    </tr>\n",
       "    <tr>\n",
       "      <th>min</th>\n",
       "      <td>0.000000</td>\n",
       "    </tr>\n",
       "    <tr>\n",
       "      <th>25%</th>\n",
       "      <td>0.010000</td>\n",
       "    </tr>\n",
       "    <tr>\n",
       "      <th>50%</th>\n",
       "      <td>5.020000</td>\n",
       "    </tr>\n",
       "    <tr>\n",
       "      <th>75%</th>\n",
       "      <td>19.569999</td>\n",
       "    </tr>\n",
       "    <tr>\n",
       "      <th>max</th>\n",
       "      <td>97.799999</td>\n",
       "    </tr>\n",
       "  </tbody>\n",
       "</table>\n",
       "</div>"
      ],
      "text/plain": [
       "                  0\n",
       "count  50201.000000\n",
       "mean      12.799569\n",
       "std       17.775324\n",
       "min        0.000000\n",
       "25%        0.010000\n",
       "50%        5.020000\n",
       "75%       19.569999\n",
       "max       97.799999"
      ]
     },
     "execution_count": 25,
     "metadata": {},
     "output_type": "execute_result"
    }
   ],
   "source": [
    "pd.DataFrame(spreads * 100).describe()"
   ]
  },
  {
   "cell_type": "code",
   "execution_count": 27,
   "id": "41473594",
   "metadata": {},
   "outputs": [
    {
     "data": {
      "text/plain": [
       "array([ 0,  1,  3,  6, 10, 15, 21, 28, 36, 45])"
      ]
     },
     "execution_count": 27,
     "metadata": {},
     "output_type": "execute_result"
    }
   ],
   "source": [
    "np.cumsum(np.arange(10))"
   ]
  },
  {
   "cell_type": "code",
   "execution_count": 29,
   "id": "3b823197",
   "metadata": {},
   "outputs": [
    {
     "data": {
      "text/plain": [
       "array([ 0,  1,  3,  6, 10, 15, 21, 28, 36, 45])"
      ]
     },
     "execution_count": 29,
     "metadata": {},
     "output_type": "execute_result"
    }
   ],
   "source": [
    "np.arange(10).cumsum()\n"
   ]
  },
  {
   "cell_type": "code",
   "execution_count": 30,
   "id": "5f0aa004",
   "metadata": {},
   "outputs": [],
   "source": [
    "import bisect"
   ]
  },
  {
   "cell_type": "code",
   "execution_count": 39,
   "id": "84d8116f",
   "metadata": {},
   "outputs": [
    {
     "data": {
      "text/plain": [
       "[99, 199, 299, 399]"
      ]
     },
     "execution_count": 39,
     "metadata": {},
     "output_type": "execute_result"
    }
   ],
   "source": [
    "end_idxs = list(np.array([100,200,300,400])-1)\n",
    "end_idxs"
   ]
  },
  {
   "cell_type": "code",
   "execution_count": 40,
   "id": "d8f889fe",
   "metadata": {},
   "outputs": [
    {
     "data": {
      "text/plain": [
       "1"
      ]
     },
     "execution_count": 40,
     "metadata": {},
     "output_type": "execute_result"
    }
   ],
   "source": [
    "bisect.bisect_left(end_idxs, 100)"
   ]
  },
  {
   "cell_type": "code",
   "execution_count": 57,
   "id": "da7429c9",
   "metadata": {},
   "outputs": [],
   "source": [
    "# Logits"
   ]
  },
  {
   "cell_type": "code",
   "execution_count": 82,
   "id": "a0e5247e",
   "metadata": {},
   "outputs": [
    {
     "data": {
      "text/plain": [
       "array([0.05284067, 0.10513826, 0.09754083, 0.00689   , 0.00755812,\n",
       "       0.00781413, 0.00210272, 0.05012355, 0.02839026, 0.07061776,\n",
       "       0.08995955, 0.04996836, 0.04099045, 0.0012453 , 0.00424128,\n",
       "       0.10929713, 0.09654028, 0.04091332, 0.07840272, 0.05942534])"
      ]
     },
     "execution_count": 82,
     "metadata": {},
     "output_type": "execute_result"
    }
   ],
   "source": [
    "X = np.random.uniform(size=20)\n",
    "X /= X.sum()\n",
    "X"
   ]
  },
  {
   "cell_type": "code",
   "execution_count": 99,
   "id": "768f9283",
   "metadata": {},
   "outputs": [],
   "source": [
    "P = np.random.uniform(size=20)"
   ]
  },
  {
   "cell_type": "code",
   "execution_count": 83,
   "id": "eca22a20",
   "metadata": {},
   "outputs": [
    {
     "data": {
      "text/plain": [
       "(array([-2.88618625, -2.14139301, -2.2248524 , -4.97077103, -4.87754618,\n",
       "        -4.84397695, -6.16242079, -2.94184089, -3.53290813, -2.57723841,\n",
       "        -2.31412896, -2.94510533, -3.15256189, -6.68713333, -5.45863952,\n",
       "        -2.0979408 , -2.23627116, -3.15452588, -2.46424977, -2.76177034]),\n",
       " array([-2.9404742 , -2.25247906, -2.32748423, -4.97768487, -4.88513301,\n",
       "        -4.85182177, -6.16452572, -2.99326425, -3.56170919, -2.65047358,\n",
       "        -2.40839518, -2.99636531, -3.19441614, -6.68837941, -5.46288982,\n",
       "        -2.21368518, -2.33779492, -3.19629969, -2.5458967 , -2.82303459]),\n",
       " array([0.05284067, 0.10513826, 0.09754083, 0.00689   , 0.00755812,\n",
       "        0.00781413, 0.00210272, 0.05012355, 0.02839026, 0.07061776,\n",
       "        0.08995955, 0.04996836, 0.04099045, 0.0012453 , 0.00424128,\n",
       "        0.10929713, 0.09654028, 0.04091332, 0.07840272, 0.05942534]))"
      ]
     },
     "execution_count": 83,
     "metadata": {},
     "output_type": "execute_result"
    }
   ],
   "source": [
    "L = np.log(X/(1-X))\n",
    "L2 = np.log(X)\n",
    "Y = X\n",
    "L, L2, Y"
   ]
  },
  {
   "cell_type": "code",
   "execution_count": 100,
   "id": "3371520c",
   "metadata": {},
   "outputs": [
    {
     "data": {
      "text/plain": [
       "3.11410374804841"
      ]
     },
     "execution_count": 100,
     "metadata": {},
     "output_type": "execute_result"
    }
   ],
   "source": [
    "-np.sum(np.log(np.exp(P) / np.sum(np.exp(P))) * X)"
   ]
  },
  {
   "cell_type": "code",
   "execution_count": 95,
   "id": "388680de",
   "metadata": {},
   "outputs": [
    {
     "data": {
      "text/plain": [
       "2.6742359926182324"
      ]
     },
     "execution_count": 95,
     "metadata": {},
     "output_type": "execute_result"
    }
   ],
   "source": [
    "loss = nn.CrossEntropyLoss(reduction='none')\n",
    "loss(torch.from_numpy(L2), torch.from_numpy(X)).item()"
   ]
  },
  {
   "cell_type": "code",
   "execution_count": 5,
   "id": "59e71710",
   "metadata": {},
   "outputs": [],
   "source": [
    "import hexz"
   ]
  },
  {
   "cell_type": "code",
   "execution_count": 22,
   "id": "c6d12f3e",
   "metadata": {},
   "outputs": [
    {
     "name": "stdout",
     "output_type": "stream",
     "text": [
      "Iteration 0 @0.017s: visit_count:9  move:(0, 5, 5, 1) player:0 score:(0.0, 0.0)\n",
      "Iteration 1 @0.031s: visit_count:2  move:(0, 6, 6, 1) player:1 score:(0.0, 0.0)\n",
      "Iteration 2 @0.044s: visit_count:11  move:(0, 7, 6, 1) player:0 score:(0.0, 0.0)\n",
      "Iteration 3 @0.056s: visit_count:7  move:(0, 2, 6, 1) player:1 score:(0.0, 0.0)\n",
      "Iteration 4 @0.150s: visit_count:8  move:(0, 5, 1, 1) player:0 score:(0.0, 0.0)\n",
      "Iteration 10 @0.223s: visit_count:12  move:(1, 4, 5, 1.0) player:0 score:(3.0, 3.0)\n",
      "Iteration 20 @0.338s: visit_count:27  move:(1, 4, 7, 2.0) player:0 score:(10.0, 11.0)\n",
      "Iteration 30 @0.450s: visit_count:9  move:(1, 8, 7, 1.0) player:0 score:(25.0, 29.0)\n",
      "Iteration 40 @0.562s: visit_count:17  move:(1, 6, 3, 3.0) player:0 score:(36.0, 42.0)\n",
      "Iteration 50 @0.671s: visit_count:17  move:(1, 8, 0, 3.0) player:0 score:(53.0, 54.0)\n",
      "Iteration 60 @0.784s: visit_count:15  move:(1, 8, 3, 4.0) player:0 score:(70.0, 67.0)\n",
      "Iteration 70 @0.896s: visit_count:5  move:(1, 6, 2, 1.0) player:0 score:(100.0, 72.0)\n",
      "Done in 0.904s after 74 moves. Final score: (105.0, 72.0).\n"
     ]
    }
   ],
   "source": [
    "model = hexz.load_model(hexz.path_to_latest_model('/Users/denniswalter/git/github.com/dnswlt/hexz-models/models/flagz/cain'))\n",
    "m = hexz.NeuralMCTS(hexz.Board(), model)\n",
    "e = m.play_game(runs_per_move=10)"
   ]
  },
  {
   "cell_type": "code",
   "execution_count": 23,
   "id": "7b19398f",
   "metadata": {},
   "outputs": [
    {
     "data": {
      "text/plain": [
       "dtype('float32')"
      ]
     },
     "execution_count": 23,
     "metadata": {},
     "output_type": "execute_result"
    }
   ],
   "source": [
    "e[0].move_probs.dtype"
   ]
  },
  {
   "cell_type": "code",
   "execution_count": 42,
   "id": "22485764",
   "metadata": {},
   "outputs": [],
   "source": [
    "import importlib\n",
    "importlib.reload(hexz)\n",
    "from matplotlib import pyplot as plt"
   ]
  },
  {
   "cell_type": "code",
   "execution_count": 70,
   "id": "58ae388a",
   "metadata": {},
   "outputs": [
    {
     "data": {
      "image/png": "[encoded data removed]",
      "text/plain": [
       "<Figure size 1200x400 with 2 Axes>"
      ]
     },
     "metadata": {},
     "output_type": "display_data"
    }
   ],
   "source": [
    "# Temperature\n",
    "tau = 0.01\n",
    "P = np.array([3, 10, 5, 1])\n",
    "P = P / P.sum()\n",
    "fix, axs = plt.subplots(1, 2, figsize=(12, 4))\n",
    "axs[0].bar([f\"x{d}\" for d in range(len(P))], P)\n",
    "axs[0].title.set_text(\"P\")\n",
    "Pt = np.power(P, 1/tau)\n",
    "Pt = Pt / Pt.sum()\n",
    "axs[1].bar([f\"x{d}\" for d in range(len(Pt))], Pt)\n",
    "axs[1].title.set_text(f\"P_tau (tau = {tau:.3f})\")"
   ]
  },
  {
   "cell_type": "code",
   "execution_count": 82,
   "id": "e0222424",
   "metadata": {},
   "outputs": [
    {
     "data": {
      "image/png": "[encoded data removed]",
      "text/plain": [
       "<Figure size 1200x1200 with 9 Axes>"
      ]
     },
     "metadata": {},
     "output_type": "display_data"
    }
   ],
   "source": [
    "alpha = 0.03\n",
    "\n",
    "fix, axs = plt.subplots(3, 3, figsize=(12, 12))\n",
    "for i in range(3):\n",
    "    for j in range(3):\n",
    "        D = np.random.dirichlet([alpha] * 5)\n",
    "        axs[i][j].bar([f\"x{d}\" for d in range(len(D))], D)\n"
   ]
  },
  {
   "cell_type": "code",
   "execution_count": 85,
   "id": "468361a5",
   "metadata": {},
   "outputs": [
    {
     "data": {
      "text/plain": [
       "<BarContainer object of 100 artists>"
      ]
     },
     "execution_count": 85,
     "metadata": {},
     "output_type": "execute_result"
    },
    {
     "data": {
      "image/png": "[encoded data removed]",
      "text/plain": [
       "<Figure size 640x480 with 1 Axes>"
      ]
     },
     "metadata": {},
     "output_type": "display_data"
    }
   ],
   "source": [
    "alpha = 0.3\n",
    "\n",
    "D = np.random.dirichlet([alpha] * 100)\n",
    "plt.bar([f\"x{d}\" for d in range(len(D))], D)\n"
   ]
  }
 ],
 "metadata": {
  "kernelspec": {
   "display_name": "Python 3 (ipykernel)",
   "language": "python",
   "name": "python3"
  },
  "language_info": {
   "codemirror_mode": {
    "name": "ipython",
    "version": 3
   },
   "file_extension": ".py",
   "mimetype": "text/x-python",
   "name": "python",
   "nbconvert_exporter": "python",
   "pygments_lexer": "ipython3",
   "version": "3.11.4"
  },
  "toc-showcode": true
 },
 "nbformat": 4,
 "nbformat_minor": 5
}
